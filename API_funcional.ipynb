{
  "nbformat": 4,
  "nbformat_minor": 0,
  "metadata": {
    "colab": {
      "name": "API_funcional",
      "provenance": [],
      "authorship_tag": "ABX9TyM5AHj7dHnRV3LLxXEe2/v1",
      "include_colab_link": true
    },
    "kernelspec": {
      "name": "python3",
      "display_name": "Python 3"
    },
    "language_info": {
      "name": "python"
    },
    "accelerator": "GPU"
  },
  "cells": [
    {
      "cell_type": "markdown",
      "metadata": {
        "id": "view-in-github",
        "colab_type": "text"
      },
      "source": [
        "<a href=\"https://colab.research.google.com/github/LeaCarop/California_Housing/blob/main/API_funcional.ipynb\" target=\"_parent\"><img src=\"https://colab.research.google.com/assets/colab-badge.svg\" alt=\"Open In Colab\"/></a>"
      ]
    },
    {
      "cell_type": "markdown",
      "source": [
        "## API FUNCIONAL\n",
        "\n",
        "#### CON UNA SOLA ENTRADA"
      ],
      "metadata": {
        "id": "3atS8K5EQZ0U"
      }
    },
    {
      "cell_type": "code",
      "execution_count": 20,
      "metadata": {
        "id": "DPnGKRj1u2Rh"
      },
      "outputs": [],
      "source": [
        "from sklearn.datasets import fetch_california_housing\n",
        "from sklearn.model_selection import train_test_split\n",
        "from sklearn.preprocessing import StandardScaler\n",
        "\n",
        "import numpy as np\n",
        "import pandas as pd\n",
        "import tensorflow as tf\n",
        "from tensorflow import keras"
      ]
    },
    {
      "cell_type": "code",
      "source": [
        "housing = fetch_california_housing()   # a diferencia del otro dataset, este es más sencillo, solo tiene variables numéricas\n",
        "\n",
        "# conjunto de entrenamiento, validación y prueba\n",
        "x_train_full, x_test, y_train_full, y_test = train_test_split(housing.data, housing.target, random_state=42)\n",
        "x_train, x_valid, y_train, y_valid = train_test_split(x_train_full, y_train_full, random_state=42)"
      ],
      "metadata": {
        "id": "4iynbj0Mvvhm"
      },
      "execution_count": 21,
      "outputs": []
    },
    {
      "cell_type": "code",
      "source": [
        "#  para escalar todas las características y las devuelva en un mismo rango\n",
        "scaler = StandardScaler()\n",
        "x_train = scaler.fit_transform(x_train)\n",
        "x_valid = scaler.transform(x_valid)\n",
        "x_test = scaler.transform(x_test)"
      ],
      "metadata": {
        "id": "KEfRXXS1vxV9"
      },
      "execution_count": 22,
      "outputs": []
    },
    {
      "cell_type": "code",
      "source": [
        "# MODELO\n",
        "entrada = keras.layers.Input(shape=x_train.shape[1:])\n",
        "oculta1 = keras.layers.Dense(30, activation=\"relu\")(entrada)\n",
        "oculta2 = keras.layers.Dense(30, activation=\"relu\")(oculta1)\n",
        "concat = keras.layers.concatenate([entrada, oculta2]) # capa para concatenar la entrada y la salida de oculta2\n",
        "salida = keras.layers.Dense(1)(concat)\n",
        "model = keras.models.Model(inputs=[entrada], outputs=[salida])"
      ],
      "metadata": {
        "id": "CJhOvoWoQNkL"
      },
      "execution_count": 23,
      "outputs": []
    },
    {
      "cell_type": "code",
      "source": [
        "model.summary()"
      ],
      "metadata": {
        "colab": {
          "base_uri": "https://localhost:8080/"
        },
        "id": "j9rcYx-pUHLw",
        "outputId": "12efad9a-2df4-4be1-98e3-3b636d21e0dd"
      },
      "execution_count": 24,
      "outputs": [
        {
          "output_type": "stream",
          "name": "stdout",
          "text": [
            "Model: \"model_2\"\n",
            "__________________________________________________________________________________________________\n",
            " Layer (type)                   Output Shape         Param #     Connected to                     \n",
            "==================================================================================================\n",
            " input_4 (InputLayer)           [(None, 8)]          0           []                               \n",
            "                                                                                                  \n",
            " dense_9 (Dense)                (None, 30)           270         ['input_4[0][0]']                \n",
            "                                                                                                  \n",
            " dense_10 (Dense)               (None, 30)           930         ['dense_9[0][0]']                \n",
            "                                                                                                  \n",
            " concatenate_3 (Concatenate)    (None, 38)           0           ['input_4[0][0]',                \n",
            "                                                                  'dense_10[0][0]']               \n",
            "                                                                                                  \n",
            " dense_11 (Dense)               (None, 1)            39          ['concatenate_3[0][0]']          \n",
            "                                                                                                  \n",
            "==================================================================================================\n",
            "Total params: 1,239\n",
            "Trainable params: 1,239\n",
            "Non-trainable params: 0\n",
            "__________________________________________________________________________________________________\n"
          ]
        }
      ]
    },
    {
      "cell_type": "code",
      "source": [
        "# COMPILAR Y ENTRENAR MODELO\n",
        "model.compile(loss=\"mse\", optimizer=keras.optimizers.SGD(learning_rate=1e-3))\n",
        "history = model.fit(x_train, y_train, epochs=20,\n",
        "                    validation_data=(x_valid, y_valid))"
      ],
      "metadata": {
        "colab": {
          "base_uri": "https://localhost:8080/"
        },
        "id": "RQ4UuErXUQZ0",
        "outputId": "f5afd52f-083b-4312-a357-15ee048bb7a1"
      },
      "execution_count": 25,
      "outputs": [
        {
          "output_type": "stream",
          "name": "stdout",
          "text": [
            "Epoch 1/20\n",
            "363/363 [==============================] - 2s 4ms/step - loss: 2.1210 - val_loss: 0.8383\n",
            "Epoch 2/20\n",
            "363/363 [==============================] - 1s 4ms/step - loss: 0.7215 - val_loss: 0.6694\n",
            "Epoch 3/20\n",
            "363/363 [==============================] - 1s 4ms/step - loss: 0.6314 - val_loss: 0.5952\n",
            "Epoch 4/20\n",
            "363/363 [==============================] - 1s 4ms/step - loss: 0.5932 - val_loss: 0.6414\n",
            "Epoch 5/20\n",
            "363/363 [==============================] - 1s 4ms/step - loss: 0.5686 - val_loss: 0.5825\n",
            "Epoch 6/20\n",
            "363/363 [==============================] - 1s 4ms/step - loss: 0.5475 - val_loss: 0.5226\n",
            "Epoch 7/20\n",
            "363/363 [==============================] - 1s 4ms/step - loss: 0.5285 - val_loss: 0.4859\n",
            "Epoch 8/20\n",
            "363/363 [==============================] - 1s 4ms/step - loss: 0.5128 - val_loss: 0.4783\n",
            "Epoch 9/20\n",
            "363/363 [==============================] - 1s 4ms/step - loss: 0.4996 - val_loss: 0.4709\n",
            "Epoch 10/20\n",
            "363/363 [==============================] - 1s 4ms/step - loss: 0.4887 - val_loss: 0.4499\n",
            "Epoch 11/20\n",
            "363/363 [==============================] - 1s 4ms/step - loss: 0.4790 - val_loss: 0.4402\n",
            "Epoch 12/20\n",
            "363/363 [==============================] - 1s 4ms/step - loss: 0.4702 - val_loss: 0.4596\n",
            "Epoch 13/20\n",
            "363/363 [==============================] - 1s 4ms/step - loss: 0.4624 - val_loss: 0.4293\n",
            "Epoch 14/20\n",
            "363/363 [==============================] - 1s 4ms/step - loss: 0.4552 - val_loss: 0.4207\n",
            "Epoch 15/20\n",
            "363/363 [==============================] - 1s 4ms/step - loss: 0.4502 - val_loss: 0.4381\n",
            "Epoch 16/20\n",
            "363/363 [==============================] - 2s 5ms/step - loss: 0.4444 - val_loss: 0.4361\n",
            "Epoch 17/20\n",
            "363/363 [==============================] - 2s 5ms/step - loss: 0.4391 - val_loss: 0.4350\n",
            "Epoch 18/20\n",
            "363/363 [==============================] - 1s 4ms/step - loss: 0.4349 - val_loss: 0.4306\n",
            "Epoch 19/20\n",
            "363/363 [==============================] - 1s 4ms/step - loss: 0.4308 - val_loss: 0.4162\n",
            "Epoch 20/20\n",
            "363/363 [==============================] - 1s 4ms/step - loss: 0.4270 - val_loss: 0.4093\n"
          ]
        }
      ]
    },
    {
      "cell_type": "code",
      "source": [
        "import matplotlib.pyplot as plt\n",
        "\n",
        "plt.plot(pd.DataFrame(history.history))\n",
        "plt.grid(True)\n",
        "plt.gca().set_ylim(0, 1)\n",
        "plt.show()"
      ],
      "metadata": {
        "colab": {
          "base_uri": "https://localhost:8080/",
          "height": 269
        },
        "id": "6e5QszTZVHkH",
        "outputId": "887fb3bb-b3d9-45a1-c2c5-f2c1e07647aa"
      },
      "execution_count": 26,
      "outputs": [
        {
          "output_type": "display_data",
          "data": {
            "text/plain": [
              "<Figure size 432x288 with 1 Axes>"
            ],
            "image/png": "[encoded data removed]"
          },
          "metadata": {
            "needs_background": "light"
          }
        }
      ]
    },
    {
      "cell_type": "code",
      "source": [
        "mse_test = model.evaluate(x_test, y_test)"
      ],
      "metadata": {
        "colab": {
          "base_uri": "https://localhost:8080/"
        },
        "id": "tNrUwjxPVTVQ",
        "outputId": "4f3d4c84-84f8-40ec-8403-04ce1e69477e"
      },
      "execution_count": 27,
      "outputs": [
        {
          "output_type": "stream",
          "name": "stdout",
          "text": [
            "162/162 [==============================] - 0s 3ms/step - loss: 0.4185\n"
          ]
        }
      ]
    },
    {
      "cell_type": "markdown",
      "source": [
        "#### CON MÚLTIPLES ENTRADAS (RED NEURONAL NO SECUENCIAL)"
      ],
      "metadata": {
        "id": "H65QfogmXhNR"
      }
    },
    {
      "cell_type": "code",
      "source": [
        "# MODELO\n",
        "entrada_A = keras.layers.Input(shape=[5], name=\"wide_input\")  # envío 5 características por la ruta ancha\n",
        "entrada_B = keras.layers.Input(shape=[6], name=\"deep_input\")  # y 6 por la profunda\n",
        "oculta1 = keras.layers.Dense(30, activation=\"relu\")(entrada_B)\n",
        "oculta2 = keras.layers.Dense(30, activation=\"relu\")(oculta1)\n",
        "concat = keras.layers.concatenate([entrada_A, oculta2])\n",
        "salida = keras.layers.Dense(1, name=\"output\")(concat)\n",
        "model = keras.models.Model(inputs=[entrada_A, entrada_B], outputs=[salida])"
      ],
      "metadata": {
        "id": "KxrAcJRCXqU0"
      },
      "execution_count": 32,
      "outputs": []
    },
    {
      "cell_type": "code",
      "source": [
        "# COMPILAR MODELO\n",
        "model.compile(loss=\"mse\", optimizer=keras.optimizers.SGD(learning_rate=1e-3))\n",
        "\n",
        "x_train_A, x_train_B = x_train[:, :5], x_train[:, 2:]\n",
        "x_valid_A, x_valid_B = x_valid[:, :5], x_valid[:, 2:]\n",
        "x_test_A, x_test_B = x_test[:, :5], x_test[:, 2:]\n",
        "x_new_A, x_new_B = x_test_A[:3], x_test_B[:3]"
      ],
      "metadata": {
        "id": "6o-EYyImYpSA"
      },
      "execution_count": 33,
      "outputs": []
    },
    {
      "cell_type": "code",
      "source": [
        "# ENTRENAMIENTO\n",
        "history = model.fit((x_train_A, x_train_B), y_train, epochs=20,\n",
        "                    validation_data=((x_valid_A, x_valid_B), y_valid))"
      ],
      "metadata": {
        "colab": {
          "base_uri": "https://localhost:8080/"
        },
        "id": "0Z8YJ3JPaaUp",
        "outputId": "41adc3a0-5a19-4626-92c3-f11d5b4c5581"
      },
      "execution_count": 34,
      "outputs": [
        {
          "output_type": "stream",
          "name": "stdout",
          "text": [
            "Epoch 1/20\n",
            "363/363 [==============================] - 2s 4ms/step - loss: 2.6252 - val_loss: 1.0112\n",
            "Epoch 2/20\n",
            "363/363 [==============================] - 1s 4ms/step - loss: 0.8276 - val_loss: 0.8064\n",
            "Epoch 3/20\n",
            "363/363 [==============================] - 1s 4ms/step - loss: 0.7034 - val_loss: 0.6770\n",
            "Epoch 4/20\n",
            "363/363 [==============================] - 1s 4ms/step - loss: 0.6596 - val_loss: 0.6261\n",
            "Epoch 5/20\n",
            "363/363 [==============================] - 1s 4ms/step - loss: 0.6287 - val_loss: 0.5975\n",
            "Epoch 6/20\n",
            "363/363 [==============================] - 1s 4ms/step - loss: 0.6002 - val_loss: 0.5747\n",
            "Epoch 7/20\n",
            "363/363 [==============================] - 1s 4ms/step - loss: 0.5741 - val_loss: 0.5557\n",
            "Epoch 8/20\n",
            "363/363 [==============================] - 1s 4ms/step - loss: 0.5496 - val_loss: 0.5222\n",
            "Epoch 9/20\n",
            "363/363 [==============================] - 1s 4ms/step - loss: 0.5283 - val_loss: 0.5075\n",
            "Epoch 10/20\n",
            "363/363 [==============================] - 1s 4ms/step - loss: 0.5100 - val_loss: 0.4744\n",
            "Epoch 11/20\n",
            "363/363 [==============================] - 1s 4ms/step - loss: 0.4942 - val_loss: 0.4649\n",
            "Epoch 12/20\n",
            "363/363 [==============================] - 1s 4ms/step - loss: 0.4810 - val_loss: 0.4478\n",
            "Epoch 13/20\n",
            "363/363 [==============================] - 1s 4ms/step - loss: 0.4703 - val_loss: 0.4366\n",
            "Epoch 14/20\n",
            "363/363 [==============================] - 1s 4ms/step - loss: 0.4617 - val_loss: 0.4310\n",
            "Epoch 15/20\n",
            "363/363 [==============================] - 1s 4ms/step - loss: 0.4546 - val_loss: 0.4211\n",
            "Epoch 16/20\n",
            "363/363 [==============================] - 1s 4ms/step - loss: 0.4489 - val_loss: 0.4157\n",
            "Epoch 17/20\n",
            "363/363 [==============================] - 1s 4ms/step - loss: 0.4439 - val_loss: 0.4141\n",
            "Epoch 18/20\n",
            "363/363 [==============================] - 1s 4ms/step - loss: 0.4400 - val_loss: 0.4080\n",
            "Epoch 19/20\n",
            "363/363 [==============================] - 1s 4ms/step - loss: 0.4365 - val_loss: 0.4056\n",
            "Epoch 20/20\n",
            "363/363 [==============================] - 1s 4ms/step - loss: 0.4336 - val_loss: 0.4030\n"
          ]
        }
      ]
    },
    {
      "cell_type": "code",
      "source": [
        "plt.plot(pd.DataFrame(history.history))\n",
        "plt.grid(True)\n",
        "plt.gca().set_ylim(0, 1)\n",
        "plt.show()"
      ],
      "metadata": {
        "colab": {
          "base_uri": "https://localhost:8080/",
          "height": 269
        },
        "id": "2xOT3u5ZayB-",
        "outputId": "313d0a16-093e-4a04-d1c5-0d8e8212ca5f"
      },
      "execution_count": 35,
      "outputs": [
        {
          "output_type": "display_data",
          "data": {
            "text/plain": [
              "<Figure size 432x288 with 1 Axes>"
            ],
            "image/png": "[encoded data removed]"
          },
          "metadata": {
            "needs_background": "light"
          }
        }
      ]
    },
    {
      "cell_type": "code",
      "source": [
        "mse_test = model.evaluate((x_test_A, x_test_B), y_test)"
      ],
      "metadata": {
        "colab": {
          "base_uri": "https://localhost:8080/"
        },
        "id": "HgFX6qb0a2JH",
        "outputId": "64701c7a-8c65-412f-d5dd-60aaea1f6c9a"
      },
      "execution_count": 36,
      "outputs": [
        {
          "output_type": "stream",
          "name": "stdout",
          "text": [
            "162/162 [==============================] - 1s 4ms/step - loss: 0.4285\n"
          ]
        }
      ]
    },
    {
      "cell_type": "code",
      "source": [
        "y_hat = model.predict((x_new_A, x_new_B))\n",
        "y_hat"
      ],
      "metadata": {
        "colab": {
          "base_uri": "https://localhost:8080/"
        },
        "id": "pldBRA21a5kT",
        "outputId": "27323030-59f4-435e-fa2b-cb43eb92463d"
      },
      "execution_count": 38,
      "outputs": [
        {
          "output_type": "execute_result",
          "data": {
            "text/plain": [
              "array([[0.56681025],\n",
              "       [2.0006268 ],\n",
              "       [3.240996  ]], dtype=float32)"
            ]
          },
          "metadata": {},
          "execution_count": 38
        }
      ]
    },
    {
      "cell_type": "markdown",
      "source": [
        "#### CON MÚLTIPLES ENTRADAS y SALIDA AUXILIAR (RED NEURONAL NO SECUENCIAL)\n",
        "El objetivo de una salida auxiliar es que la red aprenda algo por su cuenta y no sea dependiente del resto de la red neuronal."
      ],
      "metadata": {
        "id": "C-ofe1Yeb3DE"
      }
    },
    {
      "cell_type": "code",
      "source": [
        "# MODELO\n",
        "entrada_A = keras.layers.Input(shape=[5], name=\"wide_input\")  # envío 5 características por la ruta ancha\n",
        "entrada_B = keras.layers.Input(shape=[6], name=\"deep_input\")  # y 6 por la profunda\n",
        "oculta1 = keras.layers.Dense(30, activation=\"relu\")(entrada_B)\n",
        "oculta2 = keras.layers.Dense(30, activation=\"relu\")(oculta1)\n",
        "concat = keras.layers.concatenate([entrada_A, oculta2])\n",
        "salida = keras.layers.Dense(1, name=\"main_output\")(concat)\n",
        "aux_salida = keras.layers.Dense(1, name=\"aux_output\")(oculta2)  # creo la capa auxiliar\n",
        "model = keras.models.Model(inputs=[entrada_A, entrada_B],\n",
        "                           outputs=[salida, aux_salida])"
      ],
      "metadata": {
        "id": "R_LDdZawdOCu"
      },
      "execution_count": 51,
      "outputs": []
    },
    {
      "cell_type": "code",
      "source": [
        "# COMPILAR MODELO\n",
        "model.compile(loss=[\"mse\", \"mse\"], loss_weights=[0.9, 0.1], optimizer=keras.optimizers.SGD(learning_rate=1e-3)) \n",
        "# cada capa de salida necesita su función de pérdida"
      ],
      "metadata": {
        "id": "xi7uNNGWdr6M"
      },
      "execution_count": 52,
      "outputs": []
    },
    {
      "cell_type": "code",
      "source": [
        "# ENTRENAMIENTO\n",
        "history = model.fit([x_train_A, x_train_B], [y_train, y_train], epochs=20,\n",
        "                    validation_data=([x_valid_A, x_valid_B], [y_valid, y_valid]))"
      ],
      "metadata": {
        "colab": {
          "base_uri": "https://localhost:8080/"
        },
        "id": "jSg9SRaReQfs",
        "outputId": "a036fd11-3751-4d50-fc73-3d3bc7845c7c"
      },
      "execution_count": 53,
      "outputs": [
        {
          "output_type": "stream",
          "name": "stdout",
          "text": [
            "Epoch 1/20\n",
            "363/363 [==============================] - 4s 7ms/step - loss: 2.3622 - main_output_loss: 1.9593 - aux_output_loss: 5.9883 - val_loss: 1.8544 - val_main_output_loss: 1.5598 - val_aux_output_loss: 4.5050\n",
            "Epoch 2/20\n",
            "363/363 [==============================] - 2s 6ms/step - loss: 1.0570 - main_output_loss: 0.7714 - aux_output_loss: 3.6275 - val_loss: 1.0763 - val_main_output_loss: 0.7276 - val_aux_output_loss: 4.2148\n",
            "Epoch 3/20\n",
            "363/363 [==============================] - 2s 6ms/step - loss: 0.8507 - main_output_loss: 0.6803 - aux_output_loss: 2.3846 - val_loss: 1.1958 - val_main_output_loss: 0.7863 - val_aux_output_loss: 4.8815\n",
            "Epoch 4/20\n",
            "363/363 [==============================] - 2s 6ms/step - loss: 0.7577 - main_output_loss: 0.6357 - aux_output_loss: 1.8552 - val_loss: 1.0824 - val_main_output_loss: 0.6235 - val_aux_output_loss: 5.2126\n",
            "Epoch 5/20\n",
            "363/363 [==============================] - 2s 7ms/step - loss: 0.7035 - main_output_loss: 0.6016 - aux_output_loss: 1.6209 - val_loss: 1.0894 - val_main_output_loss: 0.6738 - val_aux_output_loss: 4.8291\n",
            "Epoch 6/20\n",
            "363/363 [==============================] - 2s 6ms/step - loss: 0.6684 - main_output_loss: 0.5760 - aux_output_loss: 1.4993 - val_loss: 0.9972 - val_main_output_loss: 0.6305 - val_aux_output_loss: 4.2980\n",
            "Epoch 7/20\n",
            "363/363 [==============================] - 2s 6ms/step - loss: 0.6411 - main_output_loss: 0.5540 - aux_output_loss: 1.4248 - val_loss: 0.9319 - val_main_output_loss: 0.6294 - val_aux_output_loss: 3.6539\n",
            "Epoch 8/20\n",
            "363/363 [==============================] - 2s 6ms/step - loss: 0.6189 - main_output_loss: 0.5356 - aux_output_loss: 1.3684 - val_loss: 0.8129 - val_main_output_loss: 0.5552 - val_aux_output_loss: 3.1319\n",
            "Epoch 9/20\n",
            "363/363 [==============================] - 2s 6ms/step - loss: 0.5996 - main_output_loss: 0.5192 - aux_output_loss: 1.3232 - val_loss: 0.7196 - val_main_output_loss: 0.5021 - val_aux_output_loss: 2.6770\n",
            "Epoch 10/20\n",
            "363/363 [==============================] - 2s 7ms/step - loss: 0.5820 - main_output_loss: 0.5040 - aux_output_loss: 1.2848 - val_loss: 0.6747 - val_main_output_loss: 0.4963 - val_aux_output_loss: 2.2801\n",
            "Epoch 11/20\n",
            "363/363 [==============================] - 2s 6ms/step - loss: 0.5666 - main_output_loss: 0.4907 - aux_output_loss: 1.2502 - val_loss: 0.6252 - val_main_output_loss: 0.4745 - val_aux_output_loss: 1.9821\n",
            "Epoch 12/20\n",
            "363/363 [==============================] - 2s 6ms/step - loss: 0.5530 - main_output_loss: 0.4791 - aux_output_loss: 1.2182 - val_loss: 0.5899 - val_main_output_loss: 0.4624 - val_aux_output_loss: 1.7365\n",
            "Epoch 13/20\n",
            "363/363 [==============================] - 2s 6ms/step - loss: 0.5403 - main_output_loss: 0.4682 - aux_output_loss: 1.1888 - val_loss: 0.5509 - val_main_output_loss: 0.4387 - val_aux_output_loss: 1.5609\n",
            "Epoch 14/20\n",
            "363/363 [==============================] - 2s 6ms/step - loss: 0.5289 - main_output_loss: 0.4588 - aux_output_loss: 1.1604 - val_loss: 0.5207 - val_main_output_loss: 0.4203 - val_aux_output_loss: 1.4241\n",
            "Epoch 15/20\n",
            "363/363 [==============================] - 2s 7ms/step - loss: 0.5189 - main_output_loss: 0.4507 - aux_output_loss: 1.1332 - val_loss: 0.5115 - val_main_output_loss: 0.4258 - val_aux_output_loss: 1.2826\n",
            "Epoch 16/20\n",
            "363/363 [==============================] - 2s 6ms/step - loss: 0.5103 - main_output_loss: 0.4440 - aux_output_loss: 1.1076 - val_loss: 0.4886 - val_main_output_loss: 0.4092 - val_aux_output_loss: 1.2038\n",
            "Epoch 17/20\n",
            "363/363 [==============================] - 2s 6ms/step - loss: 0.5026 - main_output_loss: 0.4382 - aux_output_loss: 1.0828 - val_loss: 0.4834 - val_main_output_loss: 0.4115 - val_aux_output_loss: 1.1311\n",
            "Epoch 18/20\n",
            "363/363 [==============================] - 2s 6ms/step - loss: 0.4961 - main_output_loss: 0.4336 - aux_output_loss: 1.0586 - val_loss: 0.4700 - val_main_output_loss: 0.4027 - val_aux_output_loss: 1.0755\n",
            "Epoch 19/20\n",
            "363/363 [==============================] - 2s 6ms/step - loss: 0.4907 - main_output_loss: 0.4301 - aux_output_loss: 1.0360 - val_loss: 0.4644 - val_main_output_loss: 0.4011 - val_aux_output_loss: 1.0337\n",
            "Epoch 20/20\n",
            "363/363 [==============================] - 2s 6ms/step - loss: 0.4854 - main_output_loss: 0.4267 - aux_output_loss: 1.0139 - val_loss: 0.4555 - val_main_output_loss: 0.3943 - val_aux_output_loss: 1.0057\n"
          ]
        }
      ]
    },
    {
      "cell_type": "code",
      "source": [
        "plt.plot(pd.DataFrame(history.history))\n",
        "plt.grid(True)\n",
        "plt.gca().set_ylim(0, 1)\n",
        "plt.show()"
      ],
      "metadata": {
        "colab": {
          "base_uri": "https://localhost:8080/",
          "height": 269
        },
        "id": "5xQWJVHJerA3",
        "outputId": "c2f66504-8612-4619-9b57-4ba43e19815c"
      },
      "execution_count": 54,
      "outputs": [
        {
          "output_type": "display_data",
          "data": {
            "text/plain": [
              "<Figure size 432x288 with 1 Axes>"
            ],
            "image/png": "[encoded data removed]"
          },
          "metadata": {
            "needs_background": "light"
          }
        }
      ]
    },
    {
      "cell_type": "code",
      "source": [
        "total_loss, main_loss, aux_loss = model.evaluate(\n",
        "    [x_test_A, x_test_B], [y_test, y_test])\n",
        "y_hat_main, y_hat_aux = model.predict([x_new_A, x_new_B])"
      ],
      "metadata": {
        "colab": {
          "base_uri": "https://localhost:8080/"
        },
        "id": "ue7WeNFjk1kd",
        "outputId": "f5583300-5043-4de3-ee17-1f89c7579083"
      },
      "execution_count": 55,
      "outputs": [
        {
          "output_type": "stream",
          "name": "stdout",
          "text": [
            "162/162 [==============================] - 1s 5ms/step - loss: 0.4748 - main_output_loss: 0.4176 - aux_output_loss: 0.9889\n"
          ]
        }
      ]
    }
  ]
}