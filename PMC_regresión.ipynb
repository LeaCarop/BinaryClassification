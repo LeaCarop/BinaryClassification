{
  "nbformat": 4,
  "nbformat_minor": 0,
  "metadata": {
    "colab": {
      "name": "PMC_regresión.ipynb",
      "provenance": [],
      "authorship_tag": "ABX9TyO820YVHpW6g866iTaV6n6n",
      "include_colab_link": true
    },
    "kernelspec": {
      "name": "python3",
      "display_name": "Python 3"
    },
    "language_info": {
      "name": "python"
    }
  },
  "cells": [
    {
      "cell_type": "markdown",
      "metadata": {
        "id": "view-in-github",
        "colab_type": "text"
      },
      "source": [
        "<a href=\"https://colab.research.google.com/github/LeaCarop/California_Housing/blob/main/PMC_regresi%C3%B3n.ipynb\" target=\"_parent\"><img src=\"https://colab.research.google.com/assets/colab-badge.svg\" alt=\"Open In Colab\"/></a>"
      ]
    },
    {
      "cell_type": "markdown",
      "source": [
        "## Ejemplo de PMC de regresión con la API secuencial"
      ],
      "metadata": {
        "id": "LCKkjX3nUi6h"
      }
    },
    {
      "cell_type": "code",
      "execution_count": 12,
      "metadata": {
        "id": "47E-Y2GDUc71"
      },
      "outputs": [],
      "source": [
        "from sklearn.datasets import fetch_california_housing\n",
        "from sklearn.model_selection import train_test_split\n",
        "from sklearn.preprocessing import StandardScaler\n",
        "\n",
        "import numpy as np\n",
        "import pandas as pd\n",
        "import tensorflow as tf\n",
        "from tensorflow import keras\n"
      ]
    },
    {
      "cell_type": "code",
      "source": [
        "housing = fetch_california_housing()   # a diferencia del otro dataset, este es más sencillo, solo tiene variables numéricas\n",
        "\n",
        "# conjunto de entrenamiento, validación y prueba\n",
        "x_train_full, x_test, y_train_full, y_test = train_test_split(housing.data, housing.target, random_state=42)\n",
        "x_train, x_valid, y_train, y_valid = train_test_split(x_train_full, y_train_full, random_state=42)\n"
      ],
      "metadata": {
        "id": "DU9VTWC0U7SV"
      },
      "execution_count": 3,
      "outputs": []
    },
    {
      "cell_type": "code",
      "source": [
        "#  para escalar todas las características y las devuelva en un mismo rango\n",
        "scaler = StandardScaler()\n",
        "x_train = scaler.fit_transform(x_train)\n",
        "x_valid = scaler.transform(x_valid)\n",
        "x_test = scaler.transform(x_test)"
      ],
      "metadata": {
        "id": "IKf8DxBAVI5H"
      },
      "execution_count": 5,
      "outputs": []
    },
    {
      "cell_type": "code",
      "source": [
        "x_train.shape"
      ],
      "metadata": {
        "colab": {
          "base_uri": "https://localhost:8080/"
        },
        "id": "ECB1o8rFXDNa",
        "outputId": "90d2067e-7acd-41b3-d161-cf6169820685"
      },
      "execution_count": 10,
      "outputs": [
        {
          "output_type": "execute_result",
          "data": {
            "text/plain": [
              "(11610, 8)"
            ]
          },
          "metadata": {},
          "execution_count": 10
        }
      ]
    },
    {
      "cell_type": "code",
      "source": [
        "# CREAR MODELO\n",
        "\n",
        "model = keras.models.Sequential([\n",
        "                                 keras.layers.Dense(35, activation=\"relu\", input_shape= x_train.shape[1:]),\n",
        "                                 keras.layers.Dense(1)  # una solo neurona de salida porque solo se quiere predecir un valor y no es necesaria una función de activación\n",
        "])"
      ],
      "metadata": {
        "id": "fnDGLtd-WAbX"
      },
      "execution_count": 25,
      "outputs": []
    },
    {
      "cell_type": "code",
      "source": [
        "# COMPILAR EL MODELO\n",
        "\n",
        "model.compile(loss=\"mse\", optimizer=\"sgd\")\n",
        "\n",
        "# ENTRENAMIENTO\n",
        "\n",
        "history = model.fit(x_train, y_train, epochs=35, batch_size = 32,\n",
        "                    validation_data= (x_valid, y_valid))"
      ],
      "metadata": {
        "colab": {
          "base_uri": "https://localhost:8080/"
        },
        "id": "IYtmdkAlYAok",
        "outputId": "c84e45d3-ac3e-4828-ac53-42f9790ba39f"
      },
      "execution_count": 38,
      "outputs": [
        {
          "output_type": "stream",
          "name": "stdout",
          "text": [
            "Epoch 1/35\n",
            "363/363 [==============================] - 2s 3ms/step - loss: 0.2909 - val_loss: 0.2865\n",
            "Epoch 2/35\n",
            "363/363 [==============================] - 1s 2ms/step - loss: 0.2884 - val_loss: 0.2919\n",
            "Epoch 3/35\n",
            "363/363 [==============================] - 1s 2ms/step - loss: 0.2861 - val_loss: 0.2925\n",
            "Epoch 4/35\n",
            "363/363 [==============================] - 1s 2ms/step - loss: 0.2885 - val_loss: 0.2926\n",
            "Epoch 5/35\n",
            "363/363 [==============================] - 1s 2ms/step - loss: 0.2916 - val_loss: 0.2929\n",
            "Epoch 6/35\n",
            "363/363 [==============================] - 1s 2ms/step - loss: 0.2873 - val_loss: 0.2868\n",
            "Epoch 7/35\n",
            "363/363 [==============================] - 1s 2ms/step - loss: 0.2862 - val_loss: 0.2916\n",
            "Epoch 8/35\n",
            "363/363 [==============================] - 1s 2ms/step - loss: 0.2879 - val_loss: 0.2831\n",
            "Epoch 9/35\n",
            "363/363 [==============================] - 1s 2ms/step - loss: 0.2855 - val_loss: 0.2792\n",
            "Epoch 10/35\n",
            "363/363 [==============================] - 1s 2ms/step - loss: 0.2864 - val_loss: 0.3153\n",
            "Epoch 11/35\n",
            "363/363 [==============================] - 1s 2ms/step - loss: 0.2926 - val_loss: 0.2807\n",
            "Epoch 12/35\n",
            "363/363 [==============================] - 1s 2ms/step - loss: 0.2878 - val_loss: 0.2806\n",
            "Epoch 13/35\n",
            "363/363 [==============================] - 1s 2ms/step - loss: 0.2868 - val_loss: 0.2864\n",
            "Epoch 14/35\n",
            "363/363 [==============================] - 1s 2ms/step - loss: 0.2845 - val_loss: 0.3284\n",
            "Epoch 15/35\n",
            "363/363 [==============================] - 1s 2ms/step - loss: 0.2867 - val_loss: 0.2896\n",
            "Epoch 16/35\n",
            "363/363 [==============================] - 1s 2ms/step - loss: 0.2870 - val_loss: 0.2814\n",
            "Epoch 17/35\n",
            "363/363 [==============================] - 1s 2ms/step - loss: 0.2922 - val_loss: 0.2796\n",
            "Epoch 18/35\n",
            "363/363 [==============================] - 1s 2ms/step - loss: 0.2846 - val_loss: 0.3045\n",
            "Epoch 19/35\n",
            "363/363 [==============================] - 1s 2ms/step - loss: 0.2849 - val_loss: 0.2964\n",
            "Epoch 20/35\n",
            "363/363 [==============================] - 1s 2ms/step - loss: 0.2851 - val_loss: 0.3013\n",
            "Epoch 21/35\n",
            "363/363 [==============================] - 1s 2ms/step - loss: 0.2850 - val_loss: 0.2859\n",
            "Epoch 22/35\n",
            "363/363 [==============================] - 1s 2ms/step - loss: 0.2831 - val_loss: 0.2808\n",
            "Epoch 23/35\n",
            "363/363 [==============================] - 1s 2ms/step - loss: 0.2843 - val_loss: 0.2789\n",
            "Epoch 24/35\n",
            "363/363 [==============================] - 1s 2ms/step - loss: 0.2848 - val_loss: 0.2771\n",
            "Epoch 25/35\n",
            "363/363 [==============================] - 1s 2ms/step - loss: 0.2838 - val_loss: 0.2775\n",
            "Epoch 26/35\n",
            "363/363 [==============================] - 1s 2ms/step - loss: 0.2834 - val_loss: 0.2816\n",
            "Epoch 27/35\n",
            "363/363 [==============================] - 1s 2ms/step - loss: 0.2845 - val_loss: 0.3101\n",
            "Epoch 28/35\n",
            "363/363 [==============================] - 1s 2ms/step - loss: 0.3012 - val_loss: 0.2841\n",
            "Epoch 29/35\n",
            "363/363 [==============================] - 1s 2ms/step - loss: 0.2880 - val_loss: 0.2925\n",
            "Epoch 30/35\n",
            "363/363 [==============================] - 1s 2ms/step - loss: 0.2842 - val_loss: 0.3210\n",
            "Epoch 31/35\n",
            "363/363 [==============================] - 1s 2ms/step - loss: 0.2866 - val_loss: 0.2839\n",
            "Epoch 32/35\n",
            "363/363 [==============================] - 1s 2ms/step - loss: 0.2827 - val_loss: 0.3266\n",
            "Epoch 33/35\n",
            "363/363 [==============================] - 1s 2ms/step - loss: 0.2822 - val_loss: 0.2801\n",
            "Epoch 34/35\n",
            "363/363 [==============================] - 1s 2ms/step - loss: 0.2852 - val_loss: 0.2974\n",
            "Epoch 35/35\n",
            "363/363 [==============================] - 1s 2ms/step - loss: 0.2832 - val_loss: 0.2787\n"
          ]
        }
      ]
    },
    {
      "cell_type": "code",
      "source": [
        "import matplotlib.pyplot as plt\n",
        "\n",
        "plt.plot(pd.DataFrame(history.history))\n",
        "plt.grid(True)\n",
        "plt.gca().set_ylim(0, 1)\n",
        "plt.show()"
      ],
      "metadata": {
        "colab": {
          "base_uri": "https://localhost:8080/",
          "height": 269
        },
        "id": "Y-oHZeyNY0gu",
        "outputId": "0523c3ee-d2da-4414-c1e7-05be20790490"
      },
      "execution_count": 39,
      "outputs": [
        {
          "output_type": "display_data",
          "data": {
            "text/plain": [
              "<Figure size 432x288 with 1 Axes>"
            ],
            "image/png": "[encoded data removed]"
          },
          "metadata": {
            "needs_background": "light"
          }
        }
      ]
    },
    {
      "cell_type": "code",
      "source": [
        "mse_test = model.evaluate(x_test, y_test)"
      ],
      "metadata": {
        "colab": {
          "base_uri": "https://localhost:8080/"
        },
        "id": "EH661RwDa1sZ",
        "outputId": "78fceeb9-6a19-4413-a902-95202115df81"
      },
      "execution_count": 40,
      "outputs": [
        {
          "output_type": "stream",
          "name": "stdout",
          "text": [
            "162/162 [==============================] - 0s 2ms/step - loss: 0.2963\n"
          ]
        }
      ]
    },
    {
      "cell_type": "code",
      "source": [
        "x_new = x_test[:4]\n",
        "y_hat = model.predict(x_new)\n",
        "y_hat"
      ],
      "metadata": {
        "colab": {
          "base_uri": "https://localhost:8080/"
        },
        "id": "RViUAHCsdOlJ",
        "outputId": "ceef2c36-49f8-48c2-96aa-8760dd05676c"
      },
      "execution_count": 42,
      "outputs": [
        {
          "output_type": "execute_result",
          "data": {
            "text/plain": [
              "array([[0.3756429],\n",
              "       [1.1484895],\n",
              "       [4.724623 ],\n",
              "       [2.4637656]], dtype=float32)"
            ]
          },
          "metadata": {},
          "execution_count": 42
        }
      ]
    }
  ]
}